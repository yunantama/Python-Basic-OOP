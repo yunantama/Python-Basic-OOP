{
 "cells": [
  {
   "cell_type": "code",
   "execution_count": 2,
   "metadata": {},
   "outputs": [],
   "source": [
    "class Nama:\n",
    "    pass"
   ]
  },
  {
   "cell_type": "code",
   "execution_count": 3,
   "metadata": {},
   "outputs": [],
   "source": [
    "var1 = Nama()"
   ]
  },
  {
   "cell_type": "code",
   "execution_count": 4,
   "metadata": {},
   "outputs": [
    {
     "data": {
      "text/plain": [
       "__main__.Nama"
      ]
     },
     "execution_count": 4,
     "metadata": {},
     "output_type": "execute_result"
    }
   ],
   "source": [
    "type(var1)"
   ]
  },
  {
   "cell_type": "code",
   "execution_count": 26,
   "metadata": {},
   "outputs": [],
   "source": [
    "class Kulkas:\n",
    "    def __init__(self, merek, harga):\n",
    "        self.merek = merek\n",
    "        self.harga = harga\n",
    "        self.garansi = 3\n",
    "        self.tenaga = 'listrik'"
   ]
  },
  {
   "cell_type": "code",
   "execution_count": 27,
   "metadata": {},
   "outputs": [],
   "source": [
    "barang1 = Kulkas('Samsung',500)"
   ]
  },
  {
   "cell_type": "code",
   "execution_count": 21,
   "metadata": {},
   "outputs": [
    {
     "data": {
      "text/plain": [
       "'Samsung'"
      ]
     },
     "execution_count": 21,
     "metadata": {},
     "output_type": "execute_result"
    }
   ],
   "source": [
    "barang1.merek\n",
    "#self.merek <- self ini merepresentasikan barang1 dan barang seterusnya"
   ]
  },
  {
   "cell_type": "code",
   "execution_count": 22,
   "metadata": {},
   "outputs": [
    {
     "data": {
      "text/plain": [
       "500"
      ]
     },
     "execution_count": 22,
     "metadata": {},
     "output_type": "execute_result"
    }
   ],
   "source": [
    "barang1.harga"
   ]
  },
  {
   "cell_type": "code",
   "execution_count": 23,
   "metadata": {},
   "outputs": [],
   "source": [
    "barang2 = Kulkas('Toshiba', 5000)"
   ]
  },
  {
   "cell_type": "code",
   "execution_count": 24,
   "metadata": {},
   "outputs": [
    {
     "data": {
      "text/plain": [
       "'Toshiba'"
      ]
     },
     "execution_count": 24,
     "metadata": {},
     "output_type": "execute_result"
    }
   ],
   "source": [
    "barang2.merek"
   ]
  },
  {
   "cell_type": "code",
   "execution_count": 25,
   "metadata": {},
   "outputs": [
    {
     "data": {
      "text/plain": [
       "5000"
      ]
     },
     "execution_count": 25,
     "metadata": {},
     "output_type": "execute_result"
    }
   ],
   "source": [
    "barang2.harga"
   ]
  },
  {
   "cell_type": "code",
   "execution_count": 28,
   "metadata": {},
   "outputs": [],
   "source": [
    "barang3 = Kulkas('LG', 2000)"
   ]
  },
  {
   "cell_type": "code",
   "execution_count": 29,
   "metadata": {},
   "outputs": [
    {
     "data": {
      "text/plain": [
       "3"
      ]
     },
     "execution_count": 29,
     "metadata": {},
     "output_type": "execute_result"
    }
   ],
   "source": [
    "barang3.garansi"
   ]
  },
  {
   "cell_type": "code",
   "execution_count": 30,
   "metadata": {
    "scrolled": true
   },
   "outputs": [
    {
     "data": {
      "text/plain": [
       "3"
      ]
     },
     "execution_count": 30,
     "metadata": {},
     "output_type": "execute_result"
    }
   ],
   "source": [
    "barang1.garansi"
   ]
  },
  {
   "cell_type": "markdown",
   "metadata": {},
   "source": [
    "# METHOD INIT"
   ]
  },
  {
   "cell_type": "code",
   "execution_count": 11,
   "metadata": {},
   "outputs": [],
   "source": [
    "class Kulkas:\n",
    "    \n",
    "    #class object attribute (attribute ini bersifat global untuk class kulkas)\n",
    "    penjual = 'Pak Mamat'\n",
    "    \n",
    "    def __init__(self, merek, harga):\n",
    "        self.merek = merek\n",
    "        self.harga = harga\n",
    "        self.garansi = 3\n",
    "        self.tenaga = 'listrik'\n",
    "        \n",
    "    def keterangan(self):\n",
    "        print('500 watt')\n",
    "        \n",
    "    def keterangan(self, anak):\n",
    "        print('Kulkas merek {} harganya sebesar {}, dan nama penjualnya {} yang punya {} anak'.format(self.merek,self.harga,self.penjual, anak))"
   ]
  },
  {
   "cell_type": "code",
   "execution_count": 12,
   "metadata": {},
   "outputs": [],
   "source": [
    "barang = Kulkas('LG', 200)"
   ]
  },
  {
   "cell_type": "code",
   "execution_count": 14,
   "metadata": {},
   "outputs": [
    {
     "data": {
      "text/plain": [
       "'Pak Mamat'"
      ]
     },
     "execution_count": 14,
     "metadata": {},
     "output_type": "execute_result"
    }
   ],
   "source": [
    "barang.penjual"
   ]
  },
  {
   "cell_type": "code",
   "execution_count": 6,
   "metadata": {},
   "outputs": [
    {
     "data": {
      "text/plain": [
       "<bound method Kulkas.konsumsi of <__main__.Kulkas object at 0x000001E9DD4DEFA0>>"
      ]
     },
     "execution_count": 6,
     "metadata": {},
     "output_type": "execute_result"
    }
   ],
   "source": [
    "barang.konsumsi"
   ]
  },
  {
   "cell_type": "code",
   "execution_count": 7,
   "metadata": {},
   "outputs": [
    {
     "name": "stdout",
     "output_type": "stream",
     "text": [
      "500 watt\n"
     ]
    }
   ],
   "source": [
    "barang.konsumsi()"
   ]
  },
  {
   "cell_type": "code",
   "execution_count": 8,
   "metadata": {},
   "outputs": [
    {
     "data": {
      "text/plain": [
       "'listrik'"
      ]
     },
     "execution_count": 8,
     "metadata": {},
     "output_type": "execute_result"
    }
   ],
   "source": [
    "barang.tenaga"
   ]
  },
  {
   "cell_type": "code",
   "execution_count": 13,
   "metadata": {},
   "outputs": [
    {
     "name": "stdout",
     "output_type": "stream",
     "text": [
      "Kulkas merek LG harganya sebesar 200, dan nama penjualnya Pak Mamat yang punya 3 anak\n"
     ]
    }
   ],
   "source": [
    "barang.keterangan(3)"
   ]
  },
  {
   "cell_type": "code",
   "execution_count": 29,
   "metadata": {},
   "outputs": [],
   "source": [
    "class Lingkaran:\n",
    "    #koefisien phi\n",
    "    phi = 3.14\n",
    "    \n",
    "    def __init__(self, radius):\n",
    "        self.radius = radius\n",
    "        self.luas = 2*self.phi*radius*radius #phi pakai SELF karena DI LUAR method, radius TIDAK pakai karena DI DALAM method\n",
    "        \n",
    "    def keliling(self):\n",
    "        return 2*self.phi*self.radius"
   ]
  },
  {
   "cell_type": "code",
   "execution_count": 30,
   "metadata": {},
   "outputs": [],
   "source": [
    "l1 = Lingkaran(10)"
   ]
  },
  {
   "cell_type": "code",
   "execution_count": 31,
   "metadata": {},
   "outputs": [
    {
     "data": {
      "text/plain": [
       "62.800000000000004"
      ]
     },
     "execution_count": 31,
     "metadata": {},
     "output_type": "execute_result"
    }
   ],
   "source": [
    "l1.keliling() #di luar init method perlu tanda kurung"
   ]
  },
  {
   "cell_type": "code",
   "execution_count": 33,
   "metadata": {},
   "outputs": [
    {
     "data": {
      "text/plain": [
       "628.0"
      ]
     },
     "execution_count": 33,
     "metadata": {},
     "output_type": "execute_result"
    }
   ],
   "source": [
    "l1.luas #dalam init method tidak perlu tanda kurung"
   ]
  },
  {
   "cell_type": "markdown",
   "metadata": {},
   "source": [
    "# INHERITANCE"
   ]
  },
  {
   "cell_type": "code",
   "execution_count": 1,
   "metadata": {},
   "outputs": [],
   "source": [
    "class Mahasiswa:\n",
    "    \n",
    "    status = 'mahasiswa'\n",
    "    def __init__ (self, nama, kelas):\n",
    "        self.nama = nama\n",
    "        self.kelas = kelas\n",
    "        \n",
    "    def keterangan (self):\n",
    "        print('{} di kelas {} adalah seorang {}'.format(self.nama, self.kelas,self.status))"
   ]
  },
  {
   "cell_type": "code",
   "execution_count": 2,
   "metadata": {},
   "outputs": [],
   "source": [
    "joko = Mahasiswa('Joko', 12)"
   ]
  },
  {
   "cell_type": "code",
   "execution_count": 3,
   "metadata": {},
   "outputs": [
    {
     "name": "stdout",
     "output_type": "stream",
     "text": [
      "Joko di kelas 12 adalah seorang mahasiswa\n"
     ]
    }
   ],
   "source": [
    "joko.keterangan()"
   ]
  },
  {
   "cell_type": "code",
   "execution_count": 4,
   "metadata": {},
   "outputs": [],
   "source": [
    "class Nilai(Mahasiswa):\n",
    "    def __init__ (self, nama, kelas):\n",
    "        super().__init__(nama,kelas)    # Mahasiswa.__init__(nama,kelas)\n",
    "        self.nilai_update = []\n",
    "        \n",
    "    def input_nilai(self,tambah):\n",
    "        return self.nilai_update.append(tambah)"
   ]
  },
  {
   "cell_type": "code",
   "execution_count": 5,
   "metadata": {},
   "outputs": [],
   "source": [
    "budi = Nilai('Budi', 13)"
   ]
  },
  {
   "cell_type": "code",
   "execution_count": 6,
   "metadata": {},
   "outputs": [
    {
     "name": "stdout",
     "output_type": "stream",
     "text": [
      "Budi di kelas 13 adalah seorang mahasiswa\n"
     ]
    }
   ],
   "source": [
    "budi.keterangan()"
   ]
  },
  {
   "cell_type": "code",
   "execution_count": 7,
   "metadata": {},
   "outputs": [],
   "source": [
    "budi.input_nilai(80)"
   ]
  },
  {
   "cell_type": "code",
   "execution_count": 8,
   "metadata": {},
   "outputs": [
    {
     "data": {
      "text/plain": [
       "[80]"
      ]
     },
     "execution_count": 8,
     "metadata": {},
     "output_type": "execute_result"
    }
   ],
   "source": [
    "budi.nilai_update"
   ]
  },
  {
   "cell_type": "markdown",
   "metadata": {},
   "source": [
    "# POLYMORPHISM\n",
    "fitur dari 1 atau lebih class yang bisa dipakai di beberapa fungsi"
   ]
  },
  {
   "cell_type": "code",
   "execution_count": 15,
   "metadata": {},
   "outputs": [],
   "source": [
    "class Kucing:\n",
    "    def __init__(self,nama):\n",
    "        self.nama = nama\n",
    "        \n",
    "    def respon(self):\n",
    "        return self.nama + ' Meong-meong!'"
   ]
  },
  {
   "cell_type": "code",
   "execution_count": 16,
   "metadata": {},
   "outputs": [],
   "source": [
    "class Anjing:\n",
    "    def __init__(self,nama):\n",
    "        self.nama = nama\n",
    "        \n",
    "    def respon(self):\n",
    "        return self.nama + ' Guk-guk'"
   ]
  },
  {
   "cell_type": "code",
   "execution_count": 18,
   "metadata": {},
   "outputs": [],
   "source": [
    "riri = Kucing('Riri')"
   ]
  },
  {
   "cell_type": "code",
   "execution_count": 19,
   "metadata": {},
   "outputs": [],
   "source": [
    "bono = Anjing('Bono')"
   ]
  },
  {
   "cell_type": "code",
   "execution_count": 20,
   "metadata": {},
   "outputs": [
    {
     "data": {
      "text/plain": [
       "'Riri Meong-meong!'"
      ]
     },
     "execution_count": 20,
     "metadata": {},
     "output_type": "execute_result"
    }
   ],
   "source": [
    "riri.respon()"
   ]
  },
  {
   "cell_type": "code",
   "execution_count": 21,
   "metadata": {},
   "outputs": [
    {
     "data": {
      "text/plain": [
       "'Bono Guk-guk'"
      ]
     },
     "execution_count": 21,
     "metadata": {},
     "output_type": "execute_result"
    }
   ],
   "source": [
    "bono.respon()"
   ]
  },
  {
   "cell_type": "code",
   "execution_count": 22,
   "metadata": {},
   "outputs": [
    {
     "name": "stdout",
     "output_type": "stream",
     "text": [
      "<class '__main__.Kucing'>\n",
      "Riri Meong-meong!\n",
      "<class '__main__.Anjing'>\n",
      "Bono Guk-guk\n"
     ]
    }
   ],
   "source": [
    "for binatang in[riri,bono]:\n",
    "    print(type(binatang))\n",
    "    print(binatang.respon())"
   ]
  },
  {
   "cell_type": "code",
   "execution_count": 25,
   "metadata": {},
   "outputs": [],
   "source": [
    "def hewan_ngomong(coba):\n",
    "    print(coba.respon())"
   ]
  },
  {
   "cell_type": "code",
   "execution_count": 26,
   "metadata": {},
   "outputs": [
    {
     "name": "stdout",
     "output_type": "stream",
     "text": [
      "Riri Meong-meong!\n"
     ]
    }
   ],
   "source": [
    "hewan_ngomong(riri)"
   ]
  },
  {
   "cell_type": "markdown",
   "metadata": {},
   "source": [
    "# Dunder/Magic Methods"
   ]
  },
  {
   "cell_type": "code",
   "execution_count": 29,
   "metadata": {},
   "outputs": [],
   "source": [
    "class Coba:\n",
    "    def __init__(self, nama):\n",
    "        self.nama = nama\n",
    "    \n",
    "    def cetak(self):\n",
    "        return self.nama"
   ]
  },
  {
   "cell_type": "code",
   "execution_count": 30,
   "metadata": {},
   "outputs": [],
   "source": [
    "coba = Coba('testing')"
   ]
  },
  {
   "cell_type": "code",
   "execution_count": 31,
   "metadata": {},
   "outputs": [
    {
     "data": {
      "text/plain": [
       "'testing'"
      ]
     },
     "execution_count": 31,
     "metadata": {},
     "output_type": "execute_result"
    }
   ],
   "source": [
    "coba.cetak()"
   ]
  },
  {
   "cell_type": "code",
   "execution_count": 32,
   "metadata": {},
   "outputs": [
    {
     "name": "stdout",
     "output_type": "stream",
     "text": [
      "['__class__', '__delattr__', '__dict__', '__dir__', '__doc__', '__eq__', '__format__', '__ge__', '__getattribute__', '__gt__', '__hash__', '__init__', '__init_subclass__', '__le__', '__lt__', '__module__', '__ne__', '__new__', '__reduce__', '__reduce_ex__', '__repr__', '__setattr__', '__sizeof__', '__str__', '__subclasshook__', '__weakref__', 'cetak', 'nama']\n"
     ]
    }
   ],
   "source": [
    "print(dir(coba))"
   ]
  },
  {
   "cell_type": "code",
   "execution_count": 56,
   "metadata": {},
   "outputs": [],
   "source": [
    "class RekeningBank:\n",
    "    def __init__(self, tabungan):\n",
    "        self.tabungan = tabungan\n",
    "        \n",
    "    def cek_saldo(self):\n",
    "        print('Jumlah saldo anda= Rp {} '.format(self.tabungan))\n",
    "        \n",
    "    def menabung(self):\n",
    "        tambah = int(input('Masukkan uang anda: '))\n",
    "        self.tabungan += tambah\n",
    "              \n",
    "    def menarik(self):\n",
    "        kurang = int(input('Jumlah yang ingin ditarik: '))\n",
    "        \n",
    "        if self.tabungan < kurang:\n",
    "              print('Maaf saldo tidak mencukupi, Saldo anda saat ini: {}'.format(self.tabungan))\n",
    "        else:\n",
    "            self.tabungan -= kurang"
   ]
  },
  {
   "cell_type": "code",
   "execution_count": 57,
   "metadata": {},
   "outputs": [],
   "source": [
    "tabunganku = RekeningBank(100000)"
   ]
  },
  {
   "cell_type": "code",
   "execution_count": 58,
   "metadata": {},
   "outputs": [
    {
     "name": "stdout",
     "output_type": "stream",
     "text": [
      "Masukkan uang anda: 0\n"
     ]
    }
   ],
   "source": [
    "tabunganku.menabung()"
   ]
  },
  {
   "cell_type": "code",
   "execution_count": 59,
   "metadata": {},
   "outputs": [
    {
     "name": "stdout",
     "output_type": "stream",
     "text": [
      "Jumlah yang ingin ditarik: 5000000\n",
      "Maaf saldo tidak mencukupi, Saldo anda saat ini: 100000\n"
     ]
    }
   ],
   "source": [
    "tabunganku.menarik()"
   ]
  },
  {
   "cell_type": "code",
   "execution_count": 54,
   "metadata": {},
   "outputs": [
    {
     "name": "stdout",
     "output_type": "stream",
     "text": [
      "Jumlah saldo anda= Rp 100040 \n"
     ]
    }
   ],
   "source": [
    "tabunganku.cek_saldo()"
   ]
  },
  {
   "cell_type": "code",
   "execution_count": 60,
   "metadata": {},
   "outputs": [
    {
     "name": "stdout",
     "output_type": "stream",
     "text": [
      "Jumlah yang ingin ditarik: 2000\n"
     ]
    }
   ],
   "source": [
    "tabunganku.menarik()"
   ]
  },
  {
   "cell_type": "code",
   "execution_count": 61,
   "metadata": {},
   "outputs": [
    {
     "name": "stdout",
     "output_type": "stream",
     "text": [
      "Jumlah saldo anda= Rp 98000 \n"
     ]
    }
   ],
   "source": [
    "tabunganku.cek_saldo()"
   ]
  },
  {
   "cell_type": "code",
   "execution_count": 62,
   "metadata": {},
   "outputs": [
    {
     "name": "stdout",
     "output_type": "stream",
     "text": [
      "Jumlah yang ingin ditarik: 590000\n",
      "Maaf saldo tidak mencukupi, Saldo anda saat ini: 98000\n"
     ]
    }
   ],
   "source": [
    "tabunganku.menarik()"
   ]
  },
  {
   "cell_type": "code",
   "execution_count": null,
   "metadata": {},
   "outputs": [],
   "source": []
  }
 ],
 "metadata": {
  "kernelspec": {
   "display_name": "Python 3",
   "language": "python",
   "name": "python3"
  },
  "language_info": {
   "codemirror_mode": {
    "name": "ipython",
    "version": 3
   },
   "file_extension": ".py",
   "mimetype": "text/x-python",
   "name": "python",
   "nbconvert_exporter": "python",
   "pygments_lexer": "ipython3",
   "version": "3.8.3"
  }
 },
 "nbformat": 4,
 "nbformat_minor": 4
}
